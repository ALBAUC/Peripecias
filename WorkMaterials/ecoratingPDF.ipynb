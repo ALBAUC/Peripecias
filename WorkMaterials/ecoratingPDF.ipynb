{
 "cells": [
  {
   "cell_type": "code",
   "execution_count": 4,
   "metadata": {},
   "outputs": [
    {
     "data": {
      "text/plain": [
       "''"
      ]
     },
     "execution_count": 4,
     "metadata": {},
     "output_type": "execute_result"
    }
   ],
   "source": [
    "import pandas as pd\n",
    "from fpdf import FPDF\n",
    "\n",
    "#Cargamos CSV\n",
    "df = pd.read_csv('ecorating.csv')\n",
    "\n",
    "#creamos PDF\n",
    "pdf = FPDF()\n",
    "pdf.add_page()\n",
    "pdf.set_font(\"Arial\", size=12)\n",
    "\n",
    "#Recorremos el dataset fila a fila y guardamos cada columna\n",
    "for index, row in df.iterrows():\n",
    "    search_name = row['search_name']\n",
    "    eco_rating = row['eco_rating']\n",
    "    durability = row['durability']\n",
    "    repairability = row['repairability']\n",
    "    recyclability = row['recyclability']\n",
    "    climate_efficiency = row['climate_efficiency']\n",
    "    resource_efficiency = row['resource_efficiency']\n",
    "    ram = row['ram_human']\n",
    "    storage = row['storage_human']\n",
    "    \n",
    "    #Creamos el texto con los valores de las filas con formato comprensible para el LLM\n",
    "    paragraph = f\"The {search_name} has an eco rating of {eco_rating}, durability of {durability}, repairability of {repairability}, recyclability of {recyclability}, climate efficiency of {climate_efficiency}, resource efficiency of {resource_efficiency}, RAM of {ram}, and storage of {storage}.\"\n",
    "    \n",
    "    #sumamos al PDF una nueva línea\n",
    "    pdf.cell(200, 10, txt=paragraph.encode('latin-1', 'replace').decode('latin-1'), ln=True)\n",
    "\n",
    "#Guardamos en local y loe exportamos\n",
    "pdf.output(\"ecorating.pdf\")\n"
   ]
  }
 ],
 "metadata": {
  "kernelspec": {
   "display_name": "base",
   "language": "python",
   "name": "python3"
  },
  "language_info": {
   "codemirror_mode": {
    "name": "ipython",
    "version": 3
   },
   "file_extension": ".py",
   "mimetype": "text/x-python",
   "name": "python",
   "nbconvert_exporter": "python",
   "pygments_lexer": "ipython3",
   "version": "3.11.4"
  }
 },
 "nbformat": 4,
 "nbformat_minor": 2
}
